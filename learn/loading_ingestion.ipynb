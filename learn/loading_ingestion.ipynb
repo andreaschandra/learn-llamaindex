{
 "cells": [
  {
   "cell_type": "markdown",
   "id": "8ce1883f-3042-4c41-a868-751dc3fe4f6c",
   "metadata": {},
   "source": [
    "Loading using SimpleDirectoryReader"
   ]
  },
  {
   "cell_type": "code",
   "execution_count": 5,
   "id": "2f6afaf1-6f46-4367-a64f-f57c1e518794",
   "metadata": {},
   "outputs": [],
   "source": [
    "from llama_index.core import SimpleDirectoryReader\n",
    "\n",
    "documents = SimpleDirectoryReader(\"../data\").load_data()"
   ]
  },
  {
   "cell_type": "code",
   "execution_count": 6,
   "id": "39082681-0842-407e-8de3-744ee69b4724",
   "metadata": {},
   "outputs": [
    {
     "data": {
      "text/plain": [
       "3"
      ]
     },
     "execution_count": 6,
     "metadata": {},
     "output_type": "execute_result"
    }
   ],
   "source": [
    "len(documents)"
   ]
  },
  {
   "cell_type": "markdown",
   "id": "f7d7d24f-5837-46a0-8d55-3577c1843fdf",
   "metadata": {},
   "source": [
    "DatabaseReader"
   ]
  },
  {
   "cell_type": "code",
   "execution_count": null,
   "id": "e2cf9ec1-1f35-4098-84b5-f9e6bb32119e",
   "metadata": {},
   "outputs": [],
   "source": [
    "from llama_index.core import download_loader\n",
    "\n",
    "from llama_index.readers.database import DatabaseReader\n",
    "\n",
    "reader = DatabaseReader(\n",
    "    scheme=os.getenv(\"DB_SCHEME\"),\n",
    "    host=os.getenv(\"DB_HOST\"),\n",
    "    port=os.getenv(\"DB_PORT\"),\n",
    "    user=os.getenv(\"DB_USER\"),\n",
    "    password=os.getenv(\"DB_PASS\"),\n",
    "    dbname=os.getenv(\"DB_NAME\"),\n",
    ")\n",
    "\n",
    "query = \"SELECT * FROM users\"\n",
    "documents = reader.load_data(query=query)"
   ]
  },
  {
   "cell_type": "markdown",
   "id": "01633868-07ba-41f6-a658-5e3a03025b84",
   "metadata": {},
   "source": [
    "Create Documents directly"
   ]
  },
  {
   "cell_type": "code",
   "execution_count": 7,
   "id": "dc10b97e-cc7e-496f-affa-46fdd3502801",
   "metadata": {},
   "outputs": [],
   "source": [
    "from llama_index.core import Document\n",
    "\n",
    "doc1 = Document(doc_id=1, text=\"Before college the two main things I worked on, outside of school, were writing and programming.\")\n",
    "doc2 = Document(doc_id=2, text=\"I didn't write essays. I wrote what beginning writers were supposed to write then, and probably still are: short stories.\")\n",
    "doc3 = Document(doc_id=3, text=\"My stories were awful. They had hardly any plot, just characters with strong feelings, which I imagined made them deep.\")"
   ]
  },
  {
   "cell_type": "code",
   "execution_count": 8,
   "id": "cc7e36f4-40fc-4eca-85b9-a324f3ef3f9f",
   "metadata": {},
   "outputs": [],
   "source": [
    "documents = [doc1, doc2, doc3]"
   ]
  },
  {
   "cell_type": "code",
   "execution_count": 24,
   "id": "010c1aa1-66df-4549-a636-f5b5cd7ae14d",
   "metadata": {
    "scrolled": true
   },
   "outputs": [],
   "source": [
    "from llama_index.core import VectorStoreIndex\n",
    "from llama_index.core.llms import MockLLM\n",
    "\n",
    "vector_index = VectorStoreIndex.from_documents(documents, embed_model='local:BAAI/bge-small-en-v1.5')"
   ]
  },
  {
   "cell_type": "code",
   "execution_count": 25,
   "id": "0a1642e3-bd35-4141-b7fd-3572f3151e59",
   "metadata": {},
   "outputs": [
    {
     "data": {
      "text/plain": [
       "<llama_index.core.query_engine.retriever_query_engine.RetrieverQueryEngine at 0x7f37c411de50>"
      ]
     },
     "execution_count": 25,
     "metadata": {},
     "output_type": "execute_result"
    }
   ],
   "source": [
    "vector_index.as_query_engine(llm=MockLLM())"
   ]
  },
  {
   "cell_type": "code",
   "execution_count": null,
   "id": "8957cb70-1e79-456f-bcf2-1ab85b1ca66f",
   "metadata": {},
   "outputs": [],
   "source": [
    "from llama_index.core.node_parser import SentenceSplitter\n",
    "\n",
    "text_splitter = SentenceSplitter(chunk_size=512, chunk_overlap=10)"
   ]
  },
  {
   "cell_type": "code",
   "execution_count": null,
   "id": "0543ffc2-45aa-4d81-8bb7-745c78098399",
   "metadata": {},
   "outputs": [],
   "source": [
    "# \n",
    "\n",
    "\n",
    "\n",
    "from llama_index.core import Settings\n",
    "\n",
    "Settings.text_splitter = text_splitter"
   ]
  },
  {
   "cell_type": "code",
   "execution_count": null,
   "id": "3b25e891-47a4-44b1-9d45-a75769158049",
   "metadata": {},
   "outputs": [],
   "source": [
    "# per-index\n",
    "index = VectorStoreIndex.from_documents(\n",
    "    documents, transformations=[text_splitter]\n",
    ")"
   ]
  },
  {
   "cell_type": "code",
   "execution_count": null,
   "id": "343aaaae-1caa-4c73-a263-9a671c54efc7",
   "metadata": {},
   "outputs": [],
   "source": [
    "dir(Settings)"
   ]
  },
  {
   "cell_type": "markdown",
   "id": "c6ceaef1-8b24-4e05-88d1-fad7e36df695",
   "metadata": {},
   "source": [
    "Settings attributes"
   ]
  },
  {
   "cell_type": "code",
   "execution_count": null,
   "id": "edab5c50-6fb7-42b9-ae16-c7dd19e61e47",
   "metadata": {},
   "outputs": [],
   "source": [
    "Settings.chunk_overlap"
   ]
  },
  {
   "cell_type": "code",
   "execution_count": null,
   "id": "c9edb63a-3a6f-4b9e-9db4-2ccfbdc6e3a4",
   "metadata": {},
   "outputs": [],
   "source": [
    "Settings.chunk_size"
   ]
  },
  {
   "cell_type": "code",
   "execution_count": null,
   "id": "f5892a42-5a04-4f83-bf72-1444fc30a32e",
   "metadata": {},
   "outputs": [],
   "source": [
    "Settings.context_window"
   ]
  },
  {
   "cell_type": "code",
   "execution_count": null,
   "id": "6ae156d0-fef2-42bf-88e2-a9be0334374f",
   "metadata": {},
   "outputs": [],
   "source": [
    "Settings.embed_model"
   ]
  },
  {
   "cell_type": "code",
   "execution_count": null,
   "id": "3c707d4c-44c8-49b7-bdf1-8b293e791094",
   "metadata": {},
   "outputs": [],
   "source": [
    "Settings.global_handler"
   ]
  },
  {
   "cell_type": "code",
   "execution_count": null,
   "id": "882753b9-ec62-49fa-bc58-32734c83adb5",
   "metadata": {},
   "outputs": [],
   "source": [
    "Settings.llm"
   ]
  },
  {
   "cell_type": "code",
   "execution_count": null,
   "id": "25e2079f-56be-4154-b809-6d579b25db5e",
   "metadata": {},
   "outputs": [],
   "source": [
    "Settings.num_output"
   ]
  },
  {
   "cell_type": "code",
   "execution_count": null,
   "id": "6914e059-9c1c-4ad3-a830-e530c78d9f26",
   "metadata": {},
   "outputs": [],
   "source": [
    "Settings.prompt_helper"
   ]
  },
  {
   "cell_type": "code",
   "execution_count": null,
   "id": "7baf9bf4-4e92-42de-b834-e61163797875",
   "metadata": {},
   "outputs": [],
   "source": [
    "Settings.pydantic_program_mode"
   ]
  },
  {
   "cell_type": "code",
   "execution_count": null,
   "id": "1ae04ab9-4437-4450-9d03-928ef4f749e1",
   "metadata": {},
   "outputs": [],
   "source": [
    "Settings.text_splitter"
   ]
  },
  {
   "cell_type": "code",
   "execution_count": null,
   "id": "955459fd-b5da-40be-b974-f5f865a898a5",
   "metadata": {},
   "outputs": [],
   "source": [
    "Settings.tokenizer"
   ]
  },
  {
   "cell_type": "code",
   "execution_count": null,
   "id": "5c72360c-645c-4edb-81cb-605593ecee4d",
   "metadata": {},
   "outputs": [],
   "source": [
    "Settings.transformations"
   ]
  },
  {
   "cell_type": "code",
   "execution_count": null,
   "id": "d19ac2d7-486e-4129-9fb4-c7245dd05077",
   "metadata": {},
   "outputs": [],
   "source": []
  }
 ],
 "metadata": {
  "kernelspec": {
   "display_name": "Python 3 (ipykernel)",
   "language": "python",
   "name": "python3"
  },
  "language_info": {
   "codemirror_mode": {
    "name": "ipython",
    "version": 3
   },
   "file_extension": ".py",
   "mimetype": "text/x-python",
   "name": "python",
   "nbconvert_exporter": "python",
   "pygments_lexer": "ipython3",
   "version": "3.9.15"
  }
 },
 "nbformat": 4,
 "nbformat_minor": 5
}
